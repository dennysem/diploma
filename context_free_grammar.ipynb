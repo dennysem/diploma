{
 "cells": [
  {
   "cell_type": "code",
   "execution_count": 50,
   "metadata": {
    "collapsed": true
   },
   "outputs": [],
   "source": [
    "import nltk\n",
    "from nltk.grammar import CFG\n",
    "from nltk.parse.generate import generate"
   ]
  },
  {
   "cell_type": "code",
   "execution_count": 99,
   "metadata": {
    "collapsed": true
   },
   "outputs": [],
   "source": [
    "dictionary_group = [\n",
    "    [['users'],[],['country','user type'],['new users', 'all users', 'returning users']],\n",
    "    [['sessions', 'visits', 'pageviews'],[],['country','user type'],['new users', 'all users', 'returning users']],\n",
    "    [['trials'],[],['plan'],['converted', 'churned']]\n",
    "]\n",
    "\n",
    "dates = ['this', 'last', 'month', 'day', 'week', 'year', 'january', 'february', 'march', 'april', 'may',\\\n",
    "         'june', 'july', 'august', 'september', 'october', 'november', 'december']\n",
    "\n",
    "placeholders = ['show', 'me', 'please', 'hi', 'plot', 'hello', 'plz']"
   ]
  },
  {
   "cell_type": "code",
   "execution_count": 277,
   "metadata": {
    "collapsed": true
   },
   "outputs": [],
   "source": [
    "class DictionaryGroup:\n",
    "    \n",
    "    def __init__(self, metric_dictionary, dimension_dictionary, filter_dictionary, predefined_filter_dictionary):\n",
    "        self.metric_dictionary = metric_dictionary\n",
    "        self.  = dimension_dictionary\n",
    "        self.filter_dictionary = filter_dictionary\n",
    "        self.predefined_filter_dictionary = predefined_filter_dictionary\n",
    "        "
   ]
  },
  {
   "cell_type": "code",
   "execution_count": 411,
   "metadata": {
    "collapsed": true
   },
   "outputs": [],
   "source": [
    "dictionary_group = DictionaryGroup(metric_dictionary, dimension_dictionary, filter_dictionary, predefined_filter_dictionary)"
   ]
  },
  {
   "cell_type": "code",
   "execution_count": 337,
   "metadata": {},
   "outputs": [],
   "source": [
    "rules = ['M{m}', \n",
    "         'M{m} D{d1}', 'D{d1} M{m}', 'M{m} by D{d1}', 'D{d1} of M{m}',\n",
    "         'S{s} M{m}', 'M{m} S{s}', 'M{m} for S{s}', 'S{s} M{m}', \n",
    "         'S{s} M{m} D{d1}', 'S{s} M{m} by D{d1}', 'M{m} for S{s} by D{d1}', 'M{m} by D{d1} for S{s}', 'M{m} by D{d1} S{s}', 'M{m} D{d1} S{s}',\n",
    "         'M{m} by D{d1} and D{d2}', 'M{m} by D{d1} and by D{d2}', 'M{m} by D{d1} by D{d2}', 'M{m} D{d1} D{d2}', 'M{m} by D{d1} D{d2}', 'D{d1} of M{m} by D{d2}',\n",
    "         'S{s} M{m} by D{d1} and D{d2}', 'S{s} M{m} by D{d1} and by D{d2}', 'S{s} M{m} by D{d1} by D{d2}', 'S{s} M{m} D{d1} D{d2}', 'S{s} M{m} by D{d1} D{d2}', 'D{d1} of S{s} M{m} by D{d2}']"
   ]
  },
  {
   "cell_type": "code",
   "execution_count": 412,
   "metadata": {},
   "outputs": [],
   "source": [
    "class GrammarBuilder:\n",
    "    \n",
    "    def __init__(self, dictionary_groups):\n",
    "        self.dictionary_groups = dictionary_groups\n",
    "\n",
    "    def build_tokens_index(self):\n",
    "        #extract all tokens\n",
    "        self.tokens = {}\n",
    "        for dictionary_group in self.dictionary_groups:\n",
    "            for dictionary in [dictionary_group.metric_dictionary, \n",
    "                               dictionary_group.dimension_dictionary, \n",
    "                               dictionary_group.filter_dictionary, \n",
    "                               dictionary_group.predefined_filter_dictionary]:\n",
    "                for element in dictionary:\n",
    "                    for alias in element[1]:\n",
    "                        for token in alias.split():\n",
    "                            if token not in self.tokens:\n",
    "                                self.tokens[token] = 'T{}'.format(len(self.tokens) + 1)\n",
    "\n",
    "    def build_rules_from_tokens(self, dictionary_name, non_terminal_name):\n",
    "        rules = []\n",
    "        for dg in xrange(len(self.dictionary_groups)):\n",
    "            dictionary_group = self.dictionary_groups[dg]\n",
    "            dictionary = getattr(dictionary_group, dictionary_name)\n",
    "            for i in range(len(dictionary)):\n",
    "                element = dictionary[i]\n",
    "                left_hand_expr = '{nt}{dg}_{element}'.format(nt = non_terminal_name, dg = dg+1, element = i+1)\n",
    "                right_hand_expr = []\n",
    "                for j in range(len(element[1])):\n",
    "                    alias = element[1][j].split()\n",
    "                    for subset in generate_all_subsets(alias):\n",
    "                        tokens_ids = []\n",
    "                        for token in subset:\n",
    "                            tokens_ids.append(self.tokens[token])\n",
    "                        right_hand_expr.append(' '.join(tokens_ids))\n",
    "                right_hand_expr += ['PH {nt}{dg}_{element}'.format(nt = non_terminal_name, dg = dg+1, element = i+1),\n",
    "                                        '{nt}{dg}_{element} PH'.format(nt = non_terminal_name, dg = dg+1, element = i+1)]\n",
    "                right_hand_expr = ' | '.join(right_hand_expr)\n",
    "                rules.append(' -> '.join([left_hand_expr, right_hand_expr]))\n",
    "        return rules\n",
    "\n",
    "    def build_grammar(self):\n",
    "        grammar = []\n",
    "        grammar.append('Q -> ' + ' | '.join(['Q{}'.format(i) for i in range(1, len(self.dictionary_groups) + 1)]))\n",
    "        self.build_tokens_index()\n",
    "\n",
    "        #add metrics\n",
    "        grammar += self.build_rules_from_tokens('metric_dictionary', 'M')\n",
    "        #add dimensions\n",
    "        grammar += self.build_rules_from_tokens('dimension_dictionary', 'D')\n",
    "        #add segments/predefined_filters\n",
    "        grammar += self.build_rules_from_tokens('predefined_filter_dictionary', 'S')\n",
    "        #add filters\n",
    "        grammar += self.build_rules_from_tokens('filter_dictionary', 'F')\n",
    "        #add tokens\n",
    "        for token in self.tokens:\n",
    "            left_hand_expr = self.tokens[token]\n",
    "            right_hand_expr = \"\"\"'{}'\"\"\".format(token)\n",
    "            grammar.append(' -> '.join([left_hand_expr,  right_hand_expr]))\n",
    "\n",
    "        #add rules\n",
    "        for i in xrange(len(self.dictionary_groups)):\n",
    "            dictionary_group = self.dictionary_groups[i]\n",
    "            for m in xrange(len(dictionary_group.metric_dictionary)):\n",
    "                for s in xrange(len(dictionary_group.predefined_filter_dictionary)):\n",
    "                    for d1 in xrange(len(dictionary_group.dimension_dictionary)):\n",
    "                        for d2 in xrange(len(dictionary_group.dimension_dictionary)):\n",
    "                            if d1 != d2:\n",
    "                                left_hand_expr = 'Q{}'.format(i+1)\n",
    "                                for rule in rules:\n",
    "                                    m_i = '{dg}_{m}'.format(dg = i+1, m = m+1)\n",
    "                                    s_i = '{dg}_{s}'.format(dg = i+1, s = s+1)\n",
    "                                    d1_i = '{dg}_{d1}'.format(dg = i+1, d1 = d1+1)\n",
    "                                    d2_i = '{dg}_{d2}'.format(dg = i+1, d2 = d2+1)\n",
    "                                    right_hand_expr = rule.format(m = m_i, s = s_i, d1 = d1_i, d2 = d2_i)\n",
    "                                    grammar.append(' -> '.join([left_hand_expr, right_hand_expr]))\n",
    "                                    \n",
    "        #add placeholders\n",
    "        left_hand_expr = 'PH'\n",
    "        words = self.tokens.keys() + placeholders\n",
    "        words = [\"\"\"'{}'\"\"\".format(word) for word in words]\n",
    "        right_hand_expr = ' | '.join( words + ['PH PH'])\n",
    "        grammar.append(' -> '.join([left_hand_expr,  right_hand_expr])) \n",
    "\n",
    "        return grammar      "
   ]
  },
  {
   "cell_type": "code",
   "execution_count": null,
   "metadata": {},
   "outputs": [],
   "source": [
    "len(GrammarBuilder([dictionary_group]).build_grammar())"
   ]
  },
  {
   "cell_type": "code",
   "execution_count": null,
   "metadata": {},
   "outputs": [],
   "source": [
    "grammar = CFG.fromstring('\\n'.join(GrammarBuilder([dictionary_group]).build_grammar()))"
   ]
  },
  {
   "cell_type": "code",
   "execution_count": null,
   "metadata": {
    "collapsed": true
   },
   "outputs": [],
   "source": [
    "parser = nltk.ChartParser(grammar)"
   ]
  },
  {
   "cell_type": "code",
   "execution_count": 403,
   "metadata": {},
   "outputs": [],
   "source": [
    "parsed = []\n",
    "for tree in parser.parse(['users', 'type']):\n",
    "    parsed.append(tree)"
   ]
  },
  {
   "cell_type": "code",
   "execution_count": 404,
   "metadata": {
    "scrolled": false
   },
   "outputs": [
    {
     "name": "stdout",
     "output_type": "stream",
     "text": [
      "(Q (Q1 (M1_1 (M1_1 (T1 users)) (PH type))))\n",
      "(Q (Q1 (M1_2 (M1_2 (T1 users)) (PH type))))\n",
      "(Q (Q1 (M1_35 (M1_35 (T1 users)) (PH type))))\n"
     ]
    }
   ],
   "source": [
    "for p in parsed:\n",
    "    print p"
   ]
  },
  {
   "cell_type": "code",
   "execution_count": 399,
   "metadata": {},
   "outputs": [],
   "source": [
    "ans_tree = max(parsed, key=lambda x: - get_coverage(x))"
   ]
  },
  {
   "cell_type": "code",
   "execution_count": 400,
   "metadata": {},
   "outputs": [
    {
     "data": {
      "image/png": "[encoded data removed]",
      "text/plain": [
       "Tree('Q', [Tree('Q1', [Tree('S1_2', [Tree('PH', [Tree('PH', ['show']), Tree('PH', ['me'])]), Tree('S1_2', [Tree('T4', ['new'])])]), Tree('M1_1', [Tree('M1_1', [Tree('T1', ['users'])]), Tree('PH', ['country'])])])])"
      ]
     },
     "execution_count": 400,
     "metadata": {},
     "output_type": "execute_result"
    }
   ],
   "source": [
    "ans_tree"
   ]
  },
  {
   "cell_type": "code",
   "execution_count": 13,
   "metadata": {},
   "outputs": [],
   "source": [
    "class DictionaryGroup:\n",
    "    \n",
    "    def __init__(self, metric_dictionary, dimension_dictionary, filter_dictionary, predefined_filter_dictionary):\n",
    "        self.metric_dictionary = metric_dictionary\n",
    "        self.dimension_dictionary  = dimension_dictionary\n",
    "        self.filter_dictionary = filter_dictionary\n",
    "        self.predefined_filter_dictionary = predefined_filter_dictionary\n",
    "        "
   ]
  },
  {
   "cell_type": "code",
   "execution_count": 192,
   "metadata": {},
   "outputs": [],
   "source": [
    "from itertools import permutations\n",
    "\n",
    "class GrammarBuilder:\n",
    "    \n",
    "    def __init__(self, dictionary_groups):\n",
    "        self.dictionary_groups = dictionary_groups\n",
    "        self.__rules__ = []\n",
    "\n",
    "    def __build_tokens_index(self):\n",
    "        #extract all tokens\n",
    "        self.tokens = {}\n",
    "        for dictionary_group in self.dictionary_groups:\n",
    "            for dictionary in [dictionary_group.metric_dictionary, \n",
    "                               dictionary_group.dimension_dictionary, \n",
    "                               dictionary_group.filter_dictionary, \n",
    "                               dictionary_group.predefined_filter_dictionary]:\n",
    "                for element in dictionary:\n",
    "                    for alias in element[1]:\n",
    "                        for token in alias.split():\n",
    "                            if token not in self.tokens:\n",
    "                                self.tokens[token] = 'T{}'.format(len(self.tokens) + 1)\n",
    "        \n",
    "    def __build_rules_from_tokens(self, dictionary_name, non_terminal_name):\n",
    "        for dg in xrange(len(self.dictionary_groups)):\n",
    "            dictionary_group = self.dictionary_groups[dg]\n",
    "            dictionary = getattr(dictionary_group, dictionary_name)\n",
    "            left_hand_expr = '{nt}{dg}'.format(nt = non_terminal_name, dg = dg + 1)\n",
    "            right_hand_expr = ['{nt}{dg}_{element}'.format(nt = non_terminal_name, \n",
    "                                                           dg = dg + 1, \n",
    "                                                           element = i + 1) \n",
    "                               for i in xrange(len(dictionary))] \n",
    "            right_hand_expr += [left_hand_expr + ' PH'] + ['PH ' + left_hand_expr]\n",
    "            right_hand_expr = ' | '.join(right_hand_expr)\n",
    "            self.grammar.append(' -> '.join([left_hand_expr, right_hand_expr]))\n",
    "            for i in range(len(dictionary)):\n",
    "                element = dictionary[i]\n",
    "                left_hand_expr = '{nt}{dg}_{element}'.format(nt = non_terminal_name, \n",
    "                                                             dg = dg + 1, \n",
    "                                                             element = i + 1)\n",
    "                self.reversed_index[left_hand_expr] = element[0]\n",
    "                right_hand_expr = []\n",
    "                for j in range(len(element[1])):\n",
    "                    alias = element[1][j].split()\n",
    "                    for subset in generate_all_subsets(alias):\n",
    "                        tokens_ids = []\n",
    "                        for token in subset:\n",
    "                            tokens_ids.append(self.tokens[token])\n",
    "                        right_hand_expr.append(' '.join(tokens_ids))\n",
    "                right_hand_expr = ' | '.join(right_hand_expr)\n",
    "                self.grammar.append(' -> '.join([left_hand_expr, right_hand_expr]))\n",
    "                \n",
    "    def __build_token_rules(self):\n",
    "        for token in self.tokens:\n",
    "            left_hand_expr = self.tokens[token]\n",
    "            right_hand_expr = \"\"\"'{}'\"\"\".format(token)\n",
    "            self.grammar.append(' -> '.join([left_hand_expr,  right_hand_expr]))\n",
    "            \n",
    "    def __build_placeholder_rules(self):\n",
    "        self.placeholders = ['show', 'me', 'please', 'hi', 'plot', 'hello', 'plz']\n",
    "        left_hand_expr = 'PH'\n",
    "        words = self.tokens.keys() + self.placeholders\n",
    "        words = [\"\"\"'{}'\"\"\".format(word) for word in words]\n",
    "        right_hand_expr = ' | '.join( words + ['PH PH'])\n",
    "        self.grammar.append(' -> '.join([left_hand_expr,  right_hand_expr])) \n",
    "            \n",
    "    def __build_date_rules(self):\n",
    "        self.date_tokens = ['this', 'last', 'month', 'day', 'week', 'year', 'january', \n",
    "                            'february', 'march', 'april', 'may', 'june', 'july', 'august',\n",
    "                            'september', 'october', 'november', 'december', 'today']\n",
    "        left_hand_expr = 'DT'\n",
    "        right_hand_expr = ['DT DT', 'PH DT', 'DT PH', ''''for' DT'''] + [\"\"\"'{}'\"\"\".format(date) for date in self.date_tokens]\n",
    "        right_hand_expr = (' | ').join(right_hand_expr)\n",
    "        self.grammar.append(' -> '.join([left_hand_expr, right_hand_expr]))\n",
    "            \n",
    "    def __build_grammar_rules(self):\n",
    "        self.rules = ['''M{n}''',\n",
    "                      '''M{n} D{n}''',\n",
    "                      '''M{n} 'by' D{n}''', \n",
    "                      '''M{n} 'for' S{n}''', \n",
    "                      '''S{n} M{n} ''',\n",
    "                      '''M{n} 'for' S{n}''',\n",
    "                      '''M{n} 'by' D{n} 'for' S{n}''',\n",
    "                      '''D{n} 'of' M{n}''',\n",
    "                      '''D{n} 'of' M{n} for S{n}''',\n",
    "                      '''D{n} 'of' S{n} M{n}''',\n",
    "                      '''M{n} 'by' D{n} 'for' S{n}''', \n",
    "                      '''S{n} M{n} 'by' D{n}''',\n",
    "                      '''M{n} 'by' D{n} 'and' D{n}''',\n",
    "                      '''M{n} 'by' D{n} 'by' D{n}''', \n",
    "                      '''M{n} 'by' D{n} D{n}''',\n",
    "                      '''M{n} D{n} D{n}''',\n",
    "                      '''S{n} M{n} 'by' D{n} 'and' D{n}''',\n",
    "                      '''S{n} M{n} 'by' D{n} 'by' D{n}''', \n",
    "                      '''S{n} M{n} 'by' D{n} D{n}''',\n",
    "                      '''S{n} M{n} D{n} D{n}''', \n",
    "                      '''M{n} 'for' S{n} 'by' D{n} 'and' D{n}''',\n",
    "                      '''M{n} 'for' S{n} 'by' D{n} 'by' D{n}''', \n",
    "                      '''M{n} 'for' S{n} 'by' D{n} D{n}''',\n",
    "                      '''M{n} 'for' S{n} D{n} D{n}''',\n",
    "                      '''M{n} 'by' D{n} 'and' D{n} 'for' S{n}''',\n",
    "                      '''M{n} 'by' D{n} 'by' D{n} 'for' S{n}''', \n",
    "                      '''M{n} 'by' D{n} D{n} 'for' S{n}''',\n",
    "                      '''M{n} D{n} D{n} 'for' S{n}'''\n",
    "                     ]\n",
    "        #add date to all rules at every position\n",
    "        rules_with_date = []\n",
    "        for rule in self.rules:\n",
    "            num_of_tokens = len(rule.split())\n",
    "            for i in xrange(num_of_tokens + 1):\n",
    "                new_rule = rule.split()\n",
    "                new_rule.insert(i, 'DT')\n",
    "                rules_with_date.append(' '.join(new_rule))\n",
    "        \n",
    "        for dg in xrange(len(self.dictionary_groups)):\n",
    "            left_hand_expr = 'Q{dg}'.format(dg = dg + 1)\n",
    "            right_hand_expr = [rule.format(n = dg + 1) for rule in self.rules + rules_with_date]\n",
    "            right_hand_expr = ' | '.join(right_hand_expr)\n",
    "            self.grammar.append(' -> '.join([left_hand_expr, right_hand_expr]))\n",
    "    \n",
    "    def __build_dictionary_group_rules(self):\n",
    "        self.grammar.append('Q -> ' + ' | '.join(['Q{}'.format(i) \n",
    "                                                  for i in range(1, len(self.dictionary_groups) + 1)]))\n",
    "        \n",
    "    def __build_analytical_components_rules(self):\n",
    "        self.__build_tokens_index()\n",
    "        self.reversed_index = {}\n",
    "        #add metrics\n",
    "        self.__build_rules_from_tokens('metric_dictionary', 'M')\n",
    "        #add dimensions\n",
    "        self.__build_rules_from_tokens('dimension_dictionary', 'D')\n",
    "        #add segments/predefined_filters\n",
    "        self.__build_rules_from_tokens('predefined_filter_dictionary', 'S')\n",
    "        #add filters\n",
    "        self.__build_rules_from_tokens('filter_dictionary', 'F')\n",
    "        \n",
    "\n",
    "    def build_grammar(self):\n",
    "        # Initilize grammar.\n",
    "        self.grammar = []\n",
    "        # Add rules like Q -> Q1 | Q2 | ... .\n",
    "        self.__build_dictionary_group_rules()\n",
    "        # Add rules like Q1 -> M1 by D1 for S1 DT.\n",
    "        self.__build_grammar_rules()\n",
    "        # Add rules like M1 -> M1_1 | M1_2 | ... | PH M1,\n",
    "        #                M1_1 -> T1 | T1 T2 | ... .\n",
    "        self.__build_analytical_components_rules()\n",
    "        # Add rules like T1 -> 'users | 'sessions' | ... .\n",
    "        self.__build_token_rules()\n",
    "        # Add rules like DT -> 'month' | ... | DT DT.\n",
    "        self.__build_date_rules()\n",
    "        # Add rules like PH -> 'show' | ... | PH PH.                       \n",
    "        self.__build_placeholder_rules()\n",
    "\n",
    "        return self.grammar\n",
    "    \n",
    "def generate_all_subsets(arr):\n",
    "    ans = []\n",
    "    for i in range(len(arr)):\n",
    "        ans += permutations(arr, i + 1)\n",
    "    return ans"
   ]
  },
  {
   "cell_type": "code",
   "execution_count": 188,
   "metadata": {
    "collapsed": true
   },
   "outputs": [],
   "source": [
    "dictionary_group = DictionaryGroup(metric_dictionary, \n",
    "                                   dimension_dictionary, \n",
    "                                   filter_dictionary, \n",
    "                                   predefined_filter_dictionary)"
   ]
  },
  {
   "cell_type": "code",
   "execution_count": null,
   "metadata": {
    "collapsed": true
   },
   "outputs": [],
   "source": [
    "from datetime"
   ]
  },
  {
   "cell_type": "code",
   "execution_count": 190,
   "metadata": {},
   "outputs": [],
   "source": [
    "grammar_builder = GrammarBuilder([dictionary_group])\n",
    "rules = grammar_builder.build_grammar()"
   ]
  },
  {
   "cell_type": "code",
   "execution_count": 177,
   "metadata": {},
   "outputs": [
    {
     "data": {
      "text/plain": [
       "<Grammar with 14425 productions>"
      ]
     },
     "execution_count": 177,
     "metadata": {},
     "output_type": "execute_result"
    }
   ],
   "source": [
    "import nltk\n",
    "from nltk.grammar import CFG\n",
    "from nltk.parse.generate import generate\n",
    "\n",
    "grammar = CFG.fromstring('\\n'.join(GrammarBuilder([dictionary_group]).build_grammar()))\n",
    "parser = nltk.ChartParser(grammar)\n",
    "grammar"
   ]
  },
  {
   "cell_type": "code",
   "execution_count": 181,
   "metadata": {},
   "outputs": [],
   "source": [
    "parsed = []\n",
    "for tree in parser.parse(['show', 'me', 'new','users', 'by', 'type', 'and', 'source', 'for', 'this', 'week']):\n",
    "    parsed.append(tree)"
   ]
  },
  {
   "cell_type": "code",
   "execution_count": 182,
   "metadata": {},
   "outputs": [],
   "source": [
    "ans_tree = max(parsed, key=lambda x: - get_coverage(x))"
   ]
  },
  {
   "cell_type": "code",
   "execution_count": 183,
   "metadata": {},
   "outputs": [
    {
     "data": {
      "image/png": "[encoded data removed]",
      "text/plain": [
       "Tree('Q', [Tree('Q1', [Tree('M1', [Tree('PH', ['show']), Tree('M1', [Tree('PH', ['me']), Tree('M1', [Tree('M1_2', [Tree('T4', ['new']), Tree('T1', ['users'])])])])]), 'by', Tree('D1', [Tree('D1_119', [Tree('T72', ['type'])])]), 'and', Tree('D1', [Tree('D1_138', [Tree('T83', ['source'])])]), Tree('DT', [Tree('DT', ['for', Tree('DT', ['this'])]), Tree('DT', ['week'])])])])"
      ]
     },
     "execution_count": 183,
     "metadata": {},
     "output_type": "execute_result"
    }
   ],
   "source": [
    "ans_tree"
   ]
  },
  {
   "cell_type": "code",
   "execution_count": 178,
   "metadata": {
    "collapsed": true
   },
   "outputs": [],
   "source": [
    "def build_grammar(dictionary_group):\n",
    "    grammar = []\n",
    "    grammar.append('Q -> ' + ' | '.join(['Q{}'.format(i) for i in range(1, len(dictionary_group) + 1)]))\n",
    "    \n",
    "    tokens = {}\n",
    "    for i in range(len(dictionary_group)):\n",
    "        for j in range(4):\n",
    "            for k in range(len(dictionary_group[i][j])):\n",
    "                for token in dictionary_group[i][j][k].split():\n",
    "                    if token not in tokens:\n",
    "                        tokens[token] = 'T{}'.format(len(tokens) + 1)\n",
    "    \n",
    "    for i in range(len(dictionary_group)):\n",
    "        grammar.append('''Q{n} -> M{n} | M{n} 'by' D{n} | M{n} 'by' D{n} and D{n} | M{n} 'for' S{n} | S{n} M{n} | M{n} 'by' D{n} 'for' S{n} | S{n} M{n} 'by' D{n}'''.format(n = i+1))\n",
    "        grammar.append('''Q{n} -> M{n} DT| M{n} 'by' D{n} DT | M{n} 'by' D{n} and D{n} |  M{n} 'for' S{n} DT | S{n} M{n} DT | M{n} 'by' D{n} 'for' S{n} DT | S{n} M{n} 'by' D{n} DT'''.format(n = i+1))\n",
    "\n",
    "    #add metrics\n",
    "    for i in xrange(len(dictionary_group)):\n",
    "        left_hand_expr = 'M{}'.format(i+1)\n",
    "        right_hand_expr = []\n",
    "        for j in xrange(len(dictionary_group[i][0])):\n",
    "            for subset in generate_all_subsets(dictionary_group[i][0][j].split()):\n",
    "                tokens_ids = []\n",
    "                for token in subset:\n",
    "                    tokens_ids.append(tokens[token])\n",
    "                right_hand_expr.append(' '.join(tokens_ids))\n",
    "        right_hand_expr += ['PH M{}'.format(i+1), 'M{} PH'.format(i+1)]\n",
    "        right_hand_expr = ' | '.join(right_hand_expr)\n",
    "        grammar.append(' -> '.join((left_hand_expr, right_hand_expr)))\n",
    "    \n",
    "    #add dimensions\n",
    "    for i in xrange(len(dictionary_group)):\n",
    "        left_hand_expr = 'D{}'.format(i+1)\n",
    "        right_hand_expr = []\n",
    "        for j in xrange(len(dictionary_group[i][2])):\n",
    "            for subset in generate_all_subsets(dictionary_group[i][2][j].split()):\n",
    "                tokens_ids = []\n",
    "                for token in subset:\n",
    "                    tokens_ids.append(tokens[token])\n",
    "                right_hand_expr.append(' '.join(tokens_ids))\n",
    "        right_hand_expr += ['PH D{}'.format(i+1), 'D{} PH'.format(i+1)]\n",
    "        right_hand_expr = ' | '.join(right_hand_expr)\n",
    "        grammar.append(' -> '.join((left_hand_expr, right_hand_expr)))\n",
    "        \n",
    "    #add segments\n",
    "    for i in xrange(len(dictionary_group)):\n",
    "        left_hand_expr = 'S{}'.format(i+1)\n",
    "        right_hand_expr = []\n",
    "        for j in xrange(len(dictionary_group[i][3])):\n",
    "            for subset in generate_all_subsets(dictionary_group[i][3][j].split()):\n",
    "                tokens_ids = []\n",
    "                for token in subset:\n",
    "                    tokens_ids.append(tokens[token])\n",
    "                right_hand_expr.append(' '.join(tokens_ids))\n",
    "        right_hand_expr += ['PH S{}'.format(i+1), 'S{} PH'.format(i+1)]\n",
    "        right_hand_expr = ' | '.join(right_hand_expr)\n",
    "        grammar.append(' -> '.join((left_hand_expr, right_hand_expr)))\\\n",
    "    \n",
    "    #add dates\n",
    "    left_hand_expr = 'DT'\n",
    "    right_hand_expr = (' | ').join(['DT DT'] + [\"\"\"'{}'\"\"\".format(date) for date in dates])\n",
    "    grammar.append(' -> '.join([left_hand_expr, right_hand_expr]))\n",
    "    \n",
    "    #add tokens\n",
    "    for token in tokens:\n",
    "        left_hand_expr = tokens[token]\n",
    "        right_hand_expr = \"\"\"'{}'\"\"\".format(token)\n",
    "        grammar.append(' -> '.join([left_hand_expr,  right_hand_expr]))\n",
    "        \n",
    "    #add placeholders\n",
    "    left_hand_expr = 'PH'\n",
    "    words = tokens.keys() + placeholders\n",
    "    words = [\"\"\"'{}'\"\"\".format(word) for word in words]\n",
    "    right_hand_expr = ' | '.join(+ ['PH PH'])\n",
    "    grammar.append(' -> '.join([left_hand_expr,  right_hand_expr])) \n",
    "    \n",
    "    return grammar"
   ]
  },
  {
   "cell_type": "code",
   "execution_count": 179,
   "metadata": {},
   "outputs": [
    {
     "data": {
      "text/plain": [
       "['Q -> Q1 | Q2 | Q3',\n",
       " \"Q1 -> M1 | M1 'by' D1 | M1 'by' D1 'and' D1 | S1 M1 'by' D1 'and' D1 | M1 'for' S1 | S1 M1 | M1 'by' D1 'for' S1 | S1 M1 'by' D1\",\n",
       " \"Q1 -> M1 DT | M1 'by' D1 DT | M1 'by' D1 'and' D1 DT | S1 M1 'by' D1 'and' D1 DT |  M1 'for' S1 DT | S1 M1 DT | M1 'by' D1 'for' S1 DT | S1 M1 'by' D1 DT\",\n",
       " \"Q2 -> M2 | M2 'by' D2 | M2 'by' D2 'and' D2 | S2 M2 'by' D2 'and' D2 | M2 'for' S2 | S2 M2 | M2 'by' D2 'for' S2 | S2 M2 'by' D2\",\n",
       " \"Q2 -> M2 DT | M2 'by' D2 DT | M2 'by' D2 'and' D2 DT | S2 M2 'by' D2 'and' D2 DT |  M2 'for' S2 DT | S2 M2 DT | M2 'by' D2 'for' S2 DT | S2 M2 'by' D2 DT\",\n",
       " \"Q3 -> M3 | M3 'by' D3 | M3 'by' D3 'and' D3 | S3 M3 'by' D3 'and' D3 | M3 'for' S3 | S3 M3 | M3 'by' D3 'for' S3 | S3 M3 'by' D3\",\n",
       " \"Q3 -> M3 DT | M3 'by' D3 DT | M3 'by' D3 'and' D3 DT | S3 M3 'by' D3 'and' D3 DT |  M3 'for' S3 DT | S3 M3 DT | M3 'by' D3 'for' S3 DT | S3 M3 'by' D3 DT\",\n",
       " 'M1 -> T1 | PH M1 | M1 PH',\n",
       " 'M2 -> T8 | T9 | T10 | PH M2 | M2 PH',\n",
       " 'M3 -> T11 | PH M3 | M3 PH',\n",
       " 'D1 -> T2 | T3 | T4 | T3 T4 | T4 T3 | PH D1 | D1 PH',\n",
       " 'D2 -> T2 | T3 | T4 | T3 T4 | T4 T3 | PH D2 | D2 PH',\n",
       " 'D3 -> T12 | PH D3 | D3 PH',\n",
       " 'S1 -> T5 | T1 | T5 T1 | T1 T5 | T6 | T1 | T6 T1 | T1 T6 | T7 | T1 | T7 T1 | T1 T7 | PH S1 | S1 PH',\n",
       " 'S2 -> T5 | T1 | T5 T1 | T1 T5 | T6 | T1 | T6 T1 | T1 T6 | T7 | T1 | T7 T1 | T1 T7 | PH S2 | S2 PH',\n",
       " 'S3 -> T13 | T14 | PH S3 | S3 PH',\n",
       " \"DT -> DT DT | 'this' | 'last' | 'month' | 'day' | 'week' | 'year' | 'january' | 'february' | 'march' | 'april' | 'may' | 'june' | 'july' | 'august' | 'september' | 'october' | 'november' | 'december'\",\n",
       " \"T6 -> 'all'\",\n",
       " \"T10 -> 'pageviews'\",\n",
       " \"T1 -> 'users'\",\n",
       " \"T7 -> 'returning'\",\n",
       " \"T2 -> 'country'\",\n",
       " \"T8 -> 'sessions'\",\n",
       " \"T9 -> 'visits'\",\n",
       " \"T13 -> 'converted'\",\n",
       " \"T3 -> 'user'\",\n",
       " \"T11 -> 'trials'\",\n",
       " \"T5 -> 'new'\",\n",
       " \"T4 -> 'type'\",\n",
       " \"T14 -> 'churned'\",\n",
       " \"T12 -> 'plan'\",\n",
       " \"PH -> 'all' | 'pageviews' | 'users' | 'returning' | 'country' | 'sessions' | 'visits' | 'converted' | 'user' | 'trials' | 'new' | 'type' | 'churned' | 'plan' | 'show' | 'me' | 'please' | 'hi' | 'plot' | 'hello' | 'plz' | PH PH\"]"
      ]
     },
     "execution_count": 179,
     "metadata": {},
     "output_type": "execute_result"
    }
   ],
   "source": [
    "build_grammar(dictionary_group)"
   ]
  },
  {
   "cell_type": "code",
   "execution_count": 180,
   "metadata": {},
   "outputs": [],
   "source": [
    "grammar = CFG.fromstring('\\n'.join(build_grammar(dictionary_group)))"
   ]
  },
  {
   "cell_type": "code",
   "execution_count": 181,
   "metadata": {
    "collapsed": true
   },
   "outputs": [],
   "source": [
    "parser = nltk.ChartParser(grammar)"
   ]
  },
  {
   "cell_type": "code",
   "execution_count": 233,
   "metadata": {},
   "outputs": [],
   "source": [
    "parsed = []\n",
    "for tree in parser.parse(['show', 'me','new','users', 'by', 'user','type', 'and', 'country', 'this', 'month']):\n",
    "    parsed.append(tree)"
   ]
  },
  {
   "cell_type": "code",
   "execution_count": 57,
   "metadata": {
    "collapsed": true
   },
   "outputs": [],
   "source": [
    "def get_coverage(tree):\n",
    "    ph_count = 0\n",
    "    for subtree in tree.subtrees():\n",
    "        count = 0\n",
    "        for i in subtree.subtrees():\n",
    "            count += 1\n",
    "        if count == 1:\n",
    "            ph_count += int(subtree.label() == 'PH')\n",
    "    return ph_count\n",
    "\n",
    "ans_tree = max(parsed, key=lambda x: - get_coverage(x))"
   ]
  },
  {
   "cell_type": "code",
   "execution_count": 267,
   "metadata": {},
   "outputs": [
    {
     "data": {
      "image/png": "[encoded data removed]",
      "text/plain": [
       "Tree('Q', [Tree('Q1', [Tree('S1', [Tree('PH', [Tree('PH', ['show']), Tree('PH', ['me'])]), Tree('S1', [Tree('T5', ['new'])])]), Tree('M1', [Tree('T1', ['users'])]), 'by', Tree('D1', [Tree('T3', ['user']), Tree('T4', ['type'])]), 'and', Tree('D1', [Tree('T2', ['country'])]), Tree('DT', [Tree('DT', ['this']), Tree('DT', ['month'])])])])"
      ]
     },
     "execution_count": 267,
     "metadata": {},
     "output_type": "execute_result"
    }
   ],
   "source": [
    "ans_tree"
   ]
  },
  {
   "cell_type": "code",
   "execution_count": 272,
   "metadata": {},
   "outputs": [
    {
     "data": {
      "text/plain": [
       "['users', ['country', 'user type'], ['new']]"
      ]
     },
     "execution_count": 272,
     "metadata": {},
     "output_type": "execute_result"
    }
   ],
   "source": [
    "import re\n",
    "\n",
    "def extract_query(tree):\n",
    "    metric = None\n",
    "    segments = set()\n",
    "    dimensions = set()\n",
    "    \n",
    "    for subtree in tree.subtrees():\n",
    "        h = subtree.height()\n",
    "        if h == 3 and re.match(\"M\\d\\d*\", subtree.label()) is not None:\n",
    "            metric = ' '.join(subtree.leaves())\n",
    "            continue\n",
    "        if h == 3 and re.match(\"D\\d\\d*\", subtree.label()) is not None:\n",
    "            dimensions.add(' '.join(subtree.leaves()))\n",
    "            continue\n",
    "        if h == 3 and re.match(\"S\\d\\d*\", subtree.label()) is not None:\n",
    "            segments.add(' '.join(subtree.leaves()))\n",
    "            continue\n",
    "    return [metric, list(dimensions), list(segments)]\n",
    "\n",
    "extract_query(ans_tree)"
   ]
  },
  {
   "cell_type": "code",
   "execution_count": 252,
   "metadata": {},
   "outputs": [
    {
     "data": {
      "text/plain": [
       "True"
      ]
     },
     "execution_count": 252,
     "metadata": {},
     "output_type": "execute_result"
    }
   ],
   "source": [
    "re.match(\"M\\d\\d*\", 'M1') is not None"
   ]
  },
  {
   "cell_type": "code",
   "execution_count": 88,
   "metadata": {},
   "outputs": [],
   "source": [
    "grammar = CFG.fromstring(\"\"\"\n",
    "    Q -> Q1 | Q2 | Q3\n",
    "    Q1 -> M1 | M1 'by' D1 | M1 'for' S1 | S1 M1 | M1 'by' D1 'for' S1 | S1 M1 'by' D1\n",
    "    Q2 -> M2 | M2 'by' D2 | M2 'for' S2 | S2 M2 | M2 'by' D2 'for' S2 | S2 M2 'by' D2\n",
    "    Q3 -> M3 | M3 'by' D3 | M3 'for' S3 | S3 M3 | M3 'by' D3 'for' S3 | S3 M3 'by' D3\n",
    "    M1 -> MT1_1 | null\n",
    "    M2 -> MT2_1 | MT2_2 | MT2_3 \n",
    "    M3 -> MT3_1\n",
    "    D1 -> DT1_1 | DT1_2 | DT1_3 | DT1_2 DT1_3\n",
    "    D2 -> DT2_1 | DT2_2 | DT2_3 | DT2_2 DT2_3\n",
    "    D3 -> DT3_1\n",
    "    S1 -> ST1_1 | ST1_2 | ST1_3 | ST1_1 ST1_4 |  ST1_2 ST1_4 |  ST1_3 ST1_4\n",
    "    S2 -> ST12_1 | ST2_2 | ST2_3 | ST2_1 ST2_4 |  ST2_2 ST2_4 |  ST2_3 ST2_4\n",
    "    S3 -> ST3_1 | ST3_2\n",
    "    MT1_1 -> 'users'\n",
    "    MT2_1 -> 'sessions'\n",
    "    MT2_2 -> 'visits' \n",
    "    MT2_3 -> 'pageviews'\n",
    "    MT3_1 -> 'trials'\n",
    "    DT1_1 -> 'country'\n",
    "    DT1_2 -> 'user'\n",
    "    DT1_3 -> 'type'\n",
    "    DT2_1 -> 'country'\n",
    "    DT2_2 -> 'user'\n",
    "    DT2_3 -> 'type'\n",
    "    DT3_1 -> 'plan'\n",
    "    ST1_1 -> 'new'\n",
    "    ST1_2 -> 'all'\n",
    "    ST1_3 -> 'returning'\n",
    "    ST1_4 -> 'users'\n",
    "    ST2_1 -> 'new'\n",
    "    ST2_2 -> 'all'\n",
    "    ST2_3 -> 'returning'\n",
    "    ST2_4 -> 'users'\n",
    "    ST3_1 -> 'converted'\n",
    "    ST3_2 -> 'churned'\n",
    "    \"\"\")"
   ]
  },
  {
   "cell_type": "code",
   "execution_count": 89,
   "metadata": {
    "scrolled": false
   },
   "outputs": [
    {
     "name": "stdout",
     "output_type": "stream",
     "text": [
      "[u'users']\n",
      "[u'users', u'by', u'country']\n",
      "[u'users', u'by', u'user']\n",
      "[u'users', u'by', u'type']\n",
      "[u'users', u'by', u'user', u'type']\n",
      "[u'users', u'for', u'new']\n",
      "[u'users', u'for', u'all']\n",
      "[u'users', u'for', u'returning']\n",
      "[u'users', u'for', u'new', u'users']\n",
      "[u'users', u'for', u'all', u'users']\n",
      "[u'users', u'for', u'returning', u'users']\n",
      "[u'new', u'users']\n",
      "[u'all', u'users']\n",
      "[u'returning', u'users']\n",
      "[u'new', u'users', u'users']\n",
      "[u'all', u'users', u'users']\n",
      "[u'returning', u'users', u'users']\n",
      "[u'users', u'by', u'country', u'for', u'new']\n",
      "[u'users', u'by', u'country', u'for', u'all']\n",
      "[u'users', u'by', u'country', u'for', u'returning']\n",
      "[u'users', u'by', u'country', u'for', u'new', u'users']\n",
      "[u'users', u'by', u'country', u'for', u'all', u'users']\n",
      "[u'users', u'by', u'country', u'for', u'returning', u'users']\n",
      "[u'users', u'by', u'user', u'for', u'new']\n",
      "[u'users', u'by', u'user', u'for', u'all']\n",
      "[u'users', u'by', u'user', u'for', u'returning']\n",
      "[u'users', u'by', u'user', u'for', u'new', u'users']\n",
      "[u'users', u'by', u'user', u'for', u'all', u'users']\n",
      "[u'users', u'by', u'user', u'for', u'returning', u'users']\n",
      "[u'users', u'by', u'type', u'for', u'new']\n",
      "[u'users', u'by', u'type', u'for', u'all']\n",
      "[u'users', u'by', u'type', u'for', u'returning']\n",
      "[u'users', u'by', u'type', u'for', u'new', u'users']\n",
      "[u'users', u'by', u'type', u'for', u'all', u'users']\n",
      "[u'users', u'by', u'type', u'for', u'returning', u'users']\n",
      "[u'users', u'by', u'user', u'type', u'for', u'new']\n",
      "[u'users', u'by', u'user', u'type', u'for', u'all']\n",
      "[u'users', u'by', u'user', u'type', u'for', u'returning']\n",
      "[u'users', u'by', u'user', u'type', u'for', u'new', u'users']\n",
      "[u'users', u'by', u'user', u'type', u'for', u'all', u'users']\n",
      "[u'users', u'by', u'user', u'type', u'for', u'returning', u'users']\n",
      "[u'new', u'users', u'by', u'country']\n",
      "[u'new', u'users', u'by', u'user']\n",
      "[u'new', u'users', u'by', u'type']\n",
      "[u'new', u'users', u'by', u'user', u'type']\n",
      "[u'all', u'users', u'by', u'country']\n",
      "[u'all', u'users', u'by', u'user']\n",
      "[u'all', u'users', u'by', u'type']\n",
      "[u'all', u'users', u'by', u'user', u'type']\n",
      "[u'returning', u'users', u'by', u'country']\n",
      "[u'returning', u'users', u'by', u'user']\n",
      "[u'returning', u'users', u'by', u'type']\n",
      "[u'returning', u'users', u'by', u'user', u'type']\n",
      "[u'new', u'users', u'users', u'by', u'country']\n",
      "[u'new', u'users', u'users', u'by', u'user']\n",
      "[u'new', u'users', u'users', u'by', u'type']\n",
      "[u'new', u'users', u'users', u'by', u'user', u'type']\n",
      "[u'all', u'users', u'users', u'by', u'country']\n",
      "[u'all', u'users', u'users', u'by', u'user']\n",
      "[u'all', u'users', u'users', u'by', u'type']\n",
      "[u'all', u'users', u'users', u'by', u'user', u'type']\n",
      "[u'returning', u'users', u'users', u'by', u'country']\n",
      "[u'returning', u'users', u'users', u'by', u'user']\n",
      "[u'returning', u'users', u'users', u'by', u'type']\n",
      "[u'returning', u'users', u'users', u'by', u'user', u'type']\n",
      "[u'sessions']\n",
      "[u'visits']\n",
      "[u'pageviews']\n",
      "[u'sessions', u'by', u'country']\n",
      "[u'sessions', u'by', u'user']\n",
      "[u'sessions', u'by', u'type']\n",
      "[u'sessions', u'by', u'user', u'type']\n",
      "[u'visits', u'by', u'country']\n",
      "[u'visits', u'by', u'user']\n",
      "[u'visits', u'by', u'type']\n",
      "[u'visits', u'by', u'user', u'type']\n",
      "[u'pageviews', u'by', u'country']\n",
      "[u'pageviews', u'by', u'user']\n",
      "[u'pageviews', u'by', u'type']\n",
      "[u'pageviews', u'by', u'user', u'type']\n",
      "[u'sessions', u'for', u'all']\n",
      "[u'sessions', u'for', u'returning']\n",
      "[u'sessions', u'for', u'new', u'users']\n",
      "[u'sessions', u'for', u'all', u'users']\n",
      "[u'sessions', u'for', u'returning', u'users']\n",
      "[u'visits', u'for', u'all']\n",
      "[u'visits', u'for', u'returning']\n",
      "[u'visits', u'for', u'new', u'users']\n",
      "[u'visits', u'for', u'all', u'users']\n",
      "[u'visits', u'for', u'returning', u'users']\n",
      "[u'pageviews', u'for', u'all']\n",
      "[u'pageviews', u'for', u'returning']\n",
      "[u'pageviews', u'for', u'new', u'users']\n",
      "[u'pageviews', u'for', u'all', u'users']\n",
      "[u'pageviews', u'for', u'returning', u'users']\n",
      "[u'all', u'sessions']\n",
      "[u'all', u'visits']\n",
      "[u'all', u'pageviews']\n",
      "[u'returning', u'sessions']\n",
      "[u'returning', u'visits']\n",
      "[u'returning', u'pageviews']\n",
      "[u'new', u'users', u'sessions']\n",
      "[u'new', u'users', u'visits']\n",
      "[u'new', u'users', u'pageviews']\n",
      "[u'all', u'users', u'sessions']\n",
      "[u'all', u'users', u'visits']\n",
      "[u'all', u'users', u'pageviews']\n",
      "[u'returning', u'users', u'sessions']\n",
      "[u'returning', u'users', u'visits']\n",
      "[u'returning', u'users', u'pageviews']\n",
      "[u'sessions', u'by', u'country', u'for', u'all']\n",
      "[u'sessions', u'by', u'country', u'for', u'returning']\n",
      "[u'sessions', u'by', u'country', u'for', u'new', u'users']\n",
      "[u'sessions', u'by', u'country', u'for', u'all', u'users']\n",
      "[u'sessions', u'by', u'country', u'for', u'returning', u'users']\n",
      "[u'sessions', u'by', u'user', u'for', u'all']\n",
      "[u'sessions', u'by', u'user', u'for', u'returning']\n",
      "[u'sessions', u'by', u'user', u'for', u'new', u'users']\n",
      "[u'sessions', u'by', u'user', u'for', u'all', u'users']\n",
      "[u'sessions', u'by', u'user', u'for', u'returning', u'users']\n",
      "[u'sessions', u'by', u'type', u'for', u'all']\n",
      "[u'sessions', u'by', u'type', u'for', u'returning']\n",
      "[u'sessions', u'by', u'type', u'for', u'new', u'users']\n",
      "[u'sessions', u'by', u'type', u'for', u'all', u'users']\n",
      "[u'sessions', u'by', u'type', u'for', u'returning', u'users']\n",
      "[u'sessions', u'by', u'user', u'type', u'for', u'all']\n",
      "[u'sessions', u'by', u'user', u'type', u'for', u'returning']\n",
      "[u'sessions', u'by', u'user', u'type', u'for', u'new', u'users']\n",
      "[u'sessions', u'by', u'user', u'type', u'for', u'all', u'users']\n",
      "[u'sessions', u'by', u'user', u'type', u'for', u'returning', u'users']\n",
      "[u'visits', u'by', u'country', u'for', u'all']\n",
      "[u'visits', u'by', u'country', u'for', u'returning']\n",
      "[u'visits', u'by', u'country', u'for', u'new', u'users']\n",
      "[u'visits', u'by', u'country', u'for', u'all', u'users']\n",
      "[u'visits', u'by', u'country', u'for', u'returning', u'users']\n",
      "[u'visits', u'by', u'user', u'for', u'all']\n",
      "[u'visits', u'by', u'user', u'for', u'returning']\n",
      "[u'visits', u'by', u'user', u'for', u'new', u'users']\n",
      "[u'visits', u'by', u'user', u'for', u'all', u'users']\n",
      "[u'visits', u'by', u'user', u'for', u'returning', u'users']\n",
      "[u'visits', u'by', u'type', u'for', u'all']\n",
      "[u'visits', u'by', u'type', u'for', u'returning']\n",
      "[u'visits', u'by', u'type', u'for', u'new', u'users']\n",
      "[u'visits', u'by', u'type', u'for', u'all', u'users']\n",
      "[u'visits', u'by', u'type', u'for', u'returning', u'users']\n",
      "[u'visits', u'by', u'user', u'type', u'for', u'all']\n",
      "[u'visits', u'by', u'user', u'type', u'for', u'returning']\n",
      "[u'visits', u'by', u'user', u'type', u'for', u'new', u'users']\n",
      "[u'visits', u'by', u'user', u'type', u'for', u'all', u'users']\n",
      "[u'visits', u'by', u'user', u'type', u'for', u'returning', u'users']\n",
      "[u'pageviews', u'by', u'country', u'for', u'all']\n",
      "[u'pageviews', u'by', u'country', u'for', u'returning']\n",
      "[u'pageviews', u'by', u'country', u'for', u'new', u'users']\n",
      "[u'pageviews', u'by', u'country', u'for', u'all', u'users']\n",
      "[u'pageviews', u'by', u'country', u'for', u'returning', u'users']\n",
      "[u'pageviews', u'by', u'user', u'for', u'all']\n",
      "[u'pageviews', u'by', u'user', u'for', u'returning']\n",
      "[u'pageviews', u'by', u'user', u'for', u'new', u'users']\n",
      "[u'pageviews', u'by', u'user', u'for', u'all', u'users']\n",
      "[u'pageviews', u'by', u'user', u'for', u'returning', u'users']\n",
      "[u'pageviews', u'by', u'type', u'for', u'all']\n",
      "[u'pageviews', u'by', u'type', u'for', u'returning']\n",
      "[u'pageviews', u'by', u'type', u'for', u'new', u'users']\n",
      "[u'pageviews', u'by', u'type', u'for', u'all', u'users']\n",
      "[u'pageviews', u'by', u'type', u'for', u'returning', u'users']\n",
      "[u'pageviews', u'by', u'user', u'type', u'for', u'all']\n",
      "[u'pageviews', u'by', u'user', u'type', u'for', u'returning']\n",
      "[u'pageviews', u'by', u'user', u'type', u'for', u'new', u'users']\n",
      "[u'pageviews', u'by', u'user', u'type', u'for', u'all', u'users']\n",
      "[u'pageviews', u'by', u'user', u'type', u'for', u'returning', u'users']\n",
      "[u'all', u'sessions', u'by', u'country']\n",
      "[u'all', u'sessions', u'by', u'user']\n",
      "[u'all', u'sessions', u'by', u'type']\n",
      "[u'all', u'sessions', u'by', u'user', u'type']\n",
      "[u'all', u'visits', u'by', u'country']\n",
      "[u'all', u'visits', u'by', u'user']\n",
      "[u'all', u'visits', u'by', u'type']\n",
      "[u'all', u'visits', u'by', u'user', u'type']\n",
      "[u'all', u'pageviews', u'by', u'country']\n",
      "[u'all', u'pageviews', u'by', u'user']\n",
      "[u'all', u'pageviews', u'by', u'type']\n",
      "[u'all', u'pageviews', u'by', u'user', u'type']\n",
      "[u'returning', u'sessions', u'by', u'country']\n",
      "[u'returning', u'sessions', u'by', u'user']\n",
      "[u'returning', u'sessions', u'by', u'type']\n",
      "[u'returning', u'sessions', u'by', u'user', u'type']\n",
      "[u'returning', u'visits', u'by', u'country']\n",
      "[u'returning', u'visits', u'by', u'user']\n",
      "[u'returning', u'visits', u'by', u'type']\n",
      "[u'returning', u'visits', u'by', u'user', u'type']\n",
      "[u'returning', u'pageviews', u'by', u'country']\n",
      "[u'returning', u'pageviews', u'by', u'user']\n",
      "[u'returning', u'pageviews', u'by', u'type']\n",
      "[u'returning', u'pageviews', u'by', u'user', u'type']\n",
      "[u'new', u'users', u'sessions', u'by', u'country']\n",
      "[u'new', u'users', u'sessions', u'by', u'user']\n",
      "[u'new', u'users', u'sessions', u'by', u'type']\n",
      "[u'new', u'users', u'sessions', u'by', u'user', u'type']\n",
      "[u'new', u'users', u'visits', u'by', u'country']\n",
      "[u'new', u'users', u'visits', u'by', u'user']\n",
      "[u'new', u'users', u'visits', u'by', u'type']\n",
      "[u'new', u'users', u'visits', u'by', u'user', u'type']\n",
      "[u'new', u'users', u'pageviews', u'by', u'country']\n",
      "[u'new', u'users', u'pageviews', u'by', u'user']\n",
      "[u'new', u'users', u'pageviews', u'by', u'type']\n",
      "[u'new', u'users', u'pageviews', u'by', u'user', u'type']\n",
      "[u'all', u'users', u'sessions', u'by', u'country']\n",
      "[u'all', u'users', u'sessions', u'by', u'user']\n",
      "[u'all', u'users', u'sessions', u'by', u'type']\n",
      "[u'all', u'users', u'sessions', u'by', u'user', u'type']\n",
      "[u'all', u'users', u'visits', u'by', u'country']\n",
      "[u'all', u'users', u'visits', u'by', u'user']\n",
      "[u'all', u'users', u'visits', u'by', u'type']\n",
      "[u'all', u'users', u'visits', u'by', u'user', u'type']\n",
      "[u'all', u'users', u'pageviews', u'by', u'country']\n",
      "[u'all', u'users', u'pageviews', u'by', u'user']\n",
      "[u'all', u'users', u'pageviews', u'by', u'type']\n",
      "[u'all', u'users', u'pageviews', u'by', u'user', u'type']\n",
      "[u'returning', u'users', u'sessions', u'by', u'country']\n",
      "[u'returning', u'users', u'sessions', u'by', u'user']\n",
      "[u'returning', u'users', u'sessions', u'by', u'type']\n",
      "[u'returning', u'users', u'sessions', u'by', u'user', u'type']\n",
      "[u'returning', u'users', u'visits', u'by', u'country']\n",
      "[u'returning', u'users', u'visits', u'by', u'user']\n",
      "[u'returning', u'users', u'visits', u'by', u'type']\n",
      "[u'returning', u'users', u'visits', u'by', u'user', u'type']\n",
      "[u'returning', u'users', u'pageviews', u'by', u'country']\n",
      "[u'returning', u'users', u'pageviews', u'by', u'user']\n",
      "[u'returning', u'users', u'pageviews', u'by', u'type']\n",
      "[u'returning', u'users', u'pageviews', u'by', u'user', u'type']\n",
      "[u'trials']\n",
      "[u'trials', u'by', u'plan']\n",
      "[u'trials', u'for', u'converted']\n",
      "[u'trials', u'for', u'churned']\n",
      "[u'converted', u'trials']\n",
      "[u'churned', u'trials']\n",
      "[u'trials', u'by', u'plan', u'for', u'converted']\n",
      "[u'trials', u'by', u'plan', u'for', u'churned']\n",
      "[u'converted', u'trials', u'by', u'plan']\n",
      "[u'churned', u'trials', u'by', u'plan']\n"
     ]
    }
   ],
   "source": [
    "from nltk.parse.generate import generate\n",
    "for g in generate(grammar, n=1000):\n",
    "    print g"
   ]
  },
  {
   "cell_type": "code",
   "execution_count": 34,
   "metadata": {},
   "outputs": [
    {
     "data": {
      "text/plain": [
       "<itertools.islice at 0x10cbf6520>"
      ]
     },
     "execution_count": 34,
     "metadata": {},
     "output_type": "execute_result"
    }
   ],
   "source": [
    "generate(grammar, n=10)"
   ]
  },
  {
   "cell_type": "code",
   "execution_count": 92,
   "metadata": {},
   "outputs": [],
   "source": [
    "parser = nltk.ChartParser(grammar)"
   ]
  },
  {
   "cell_type": "code",
   "execution_count": 100,
   "metadata": {},
   "outputs": [
    {
     "name": "stdout",
     "output_type": "stream",
     "text": [
      "(Q (Q1 (S1 (ST1_1 new)) (M1 (MT1_1 users)) by (D1 (DT1_3 type))))\n"
     ]
    }
   ],
   "source": [
    "for tree in parser.parse(['new','users', 'by', 'type']):\n",
    "    print tree"
   ]
  },
  {
   "cell_type": "code",
   "execution_count": 108,
   "metadata": {},
   "outputs": [
    {
     "data": {
      "text/plain": [
       "['aAAA', 'aaa', 'aaaa', 'bbb', 'd']"
      ]
     },
     "execution_count": 108,
     "metadata": {},
     "output_type": "execute_result"
    }
   ],
   "source": [
    "a = ['aaaa','bbb', 'aaa', \"aAAA\", 'd']\n",
    "a.sort()\n",
    "a"
   ]
  },
  {
   "cell_type": "code",
   "execution_count": 109,
   "metadata": {},
   "outputs": [
    {
     "data": {
      "text/plain": [
       "'aAAA'"
      ]
     },
     "execution_count": 109,
     "metadata": {},
     "output_type": "execute_result"
    }
   ],
   "source": [
    "min(a)"
   ]
  },
  {
   "cell_type": "code",
   "execution_count": 30,
   "metadata": {},
   "outputs": [
    {
     "data": {
      "text/plain": [
       "[Q -> Q1,\n",
       " Q -> Q2,\n",
       " Q -> Q3,\n",
       " Q1 -> M1,\n",
       " Q1 -> M1 'by' D1,\n",
       " Q1 -> M1 'for' S1,\n",
       " Q1 -> S1 M1,\n",
       " Q1 -> M1 'by' D1 'for' S1,\n",
       " Q1 -> S1 M1 'by' D1,\n",
       " Q2 -> M2,\n",
       " Q2 -> M2 'by' D2,\n",
       " Q2 -> M2 'for' S2,\n",
       " Q2 -> S2 M2,\n",
       " Q2 -> M2 'by' D2 'for' S2,\n",
       " Q2 -> S2 M2 'by' D2,\n",
       " Q3 -> M3,\n",
       " Q3 -> M3 'by' D3,\n",
       " Q3 -> M3 'for' S3,\n",
       " Q3 -> S3 M3,\n",
       " Q3 -> M3 'by' D3 'for' S3,\n",
       " Q3 -> S3 M3 'by' D3,\n",
       " M1 -> MT1,\n",
       " M1 -> MT1 MT1,\n",
       " M2 -> MT2,\n",
       " M2 -> MT2 MT2,\n",
       " M3 -> MT3,\n",
       " M3 -> MT3 MT3,\n",
       " D1 -> DT1,\n",
       " D1 -> DT1 DT1,\n",
       " D2 -> DT2,\n",
       " D2 -> DT2 DT2,\n",
       " D3 -> DT3,\n",
       " D3 -> DT3 DT3,\n",
       " S1 -> ST1,\n",
       " S1 -> ST1 ST1,\n",
       " S2 -> ST2,\n",
       " S2 -> ST2 ST2,\n",
       " S3 -> ST3,\n",
       " S3 -> ST3 ST3,\n",
       " MT1 -> users,\n",
       " MT2 -> sessions,\n",
       " MT2 -> visits,\n",
       " MT2 -> pageviews,\n",
       " MT3 -> trials,\n",
       " DT1 -> country,\n",
       " DT1 -> user,\n",
       " DT1 -> type,\n",
       " DT2 -> country,\n",
       " DT2 -> user,\n",
       " DT2 -> type,\n",
       " DT3 -> plan,\n",
       " ST1 -> new,\n",
       " ST1 -> all,\n",
       " ST1 -> returning,\n",
       " ST2 -> new,\n",
       " ST2 -> all,\n",
       " ST2 -> returning,\n",
       " ST3 -> converted,\n",
       " ST3 -> churned]"
      ]
     },
     "execution_count": 30,
     "metadata": {},
     "output_type": "execute_result"
    }
   ],
   "source": [
    "grammar.productions()"
   ]
  }
 ],
 "metadata": {
  "kernelspec": {
   "display_name": "Python 3",
   "language": "python",
   "name": "python3"
  },
  "language_info": {
   "codemirror_mode": {
    "name": "ipython",
    "version": 3
   },
   "file_extension": ".py",
   "mimetype": "text/x-python",
   "name": "python",
   "nbconvert_exporter": "python",
   "pygments_lexer": "ipython3",
   "version": "3.6.4"
  }
 },
 "nbformat": 4,
 "nbformat_minor": 2
}
